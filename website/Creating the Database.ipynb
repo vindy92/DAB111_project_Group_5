{
 "cells": [
  {
   "cell_type": "code",
   "execution_count": 7,
   "id": "fcc297d4",
   "metadata": {},
   "outputs": [],
   "source": [
    "import pandas as pd\n",
    "import sqlite3\n"
   ]
  },
  {
   "cell_type": "markdown",
   "id": "1148c1b7",
   "metadata": {},
   "source": [
    "Establish a connection"
   ]
  },
  {
   "cell_type": "code",
   "execution_count": 8,
   "id": "84e4c99a",
   "metadata": {},
   "outputs": [],
   "source": [
    "conn = sqlite3.connect(\"customer_data.db\")\n",
    "cur = conn.cursor"
   ]
  },
  {
   "cell_type": "markdown",
   "id": "bdd1a677",
   "metadata": {},
   "source": [
    "Read and display data from the CSV file into a Pandas DataFrame"
   ]
  },
  {
   "cell_type": "code",
   "execution_count": 9,
   "id": "4c027dc5",
   "metadata": {},
   "outputs": [
    {
     "name": "stdout",
     "output_type": "stream",
     "text": [
      "   id  age  gender  income   education\n",
      "0   1   27    Male   40682    Bachelor\n",
      "1   2   29    Male   15317     Masters\n",
      "2   3   37    Male   38849    Bachelor\n",
      "3   4   30    Male   11568  HighSchool\n",
      "4   5   31  Female   46952     College\n"
     ]
    }
   ],
   "source": [
    "import pandas as pd\n",
    "\n",
    "df = pd.read_csv(\"customer_data.csv\")\n",
    "print(df.head())\n"
   ]
  },
  {
   "cell_type": "markdown",
   "id": "e2af05df",
   "metadata": {},
   "source": [
    "Send data to database"
   ]
  },
  {
   "cell_type": "code",
   "execution_count": 10,
   "id": "cbb1b724",
   "metadata": {},
   "outputs": [
    {
     "data": {
      "text/plain": [
       "20"
      ]
     },
     "execution_count": 10,
     "metadata": {},
     "output_type": "execute_result"
    }
   ],
   "source": [
    "df.to_sql(\"customer_data\",conn,index=False,if_exists=\"append\")"
   ]
  },
  {
   "cell_type": "code",
   "execution_count": 11,
   "id": "6197b07d",
   "metadata": {},
   "outputs": [
    {
     "name": "stdout",
     "output_type": "stream",
     "text": [
      "[(1, 27, 'Male', 40682, 'Bachelor'), (2, 29, 'Male', 15317, 'Masters'), (3, 37, 'Male', 38849, 'Bachelor'), (4, 30, 'Male', 11568, 'HighSchool'), (5, 31, 'Female', 46952, 'College'), (6, 38, 'Male', 7347, 'Bachelor'), (7, 32, 'Female', 8265, 'Bachelor'), (8, 24, 'Female', 47773, 'HighSchool'), (9, 27, 'Male', 19154, 'College'), (10, 28, 'Female', 24666, 'HighSchool'), (11, 35, 'Male', 43896, 'HighSchool'), (12, 32, 'Female', 40044, 'Bachelor'), (13, 32, 'Male', 6735, 'College'), (14, 30, 'Female', 19034, 'Bachelor'), (15, 28, 'Male', 35748, 'Bachelor'), (16, 38, 'Female', 26282, 'College'), (17, 32, 'Male', 49088, 'Bachelor'), (18, 21, 'Female', 20163, 'College'), (19, 33, 'Female', 10660, 'Bachelor'), (20, 28, 'Male', 40725, 'HighSchool'), (1, 27, 'Male', 40682, 'Bachelor'), (2, 29, 'Male', 15317, 'Masters'), (3, 37, 'Male', 38849, 'Bachelor'), (4, 30, 'Male', 11568, 'HighSchool'), (5, 31, 'Female', 46952, 'College'), (6, 38, 'Male', 7347, 'Bachelor'), (7, 32, 'Female', 8265, 'Bachelor'), (8, 24, 'Female', 47773, 'HighSchool'), (9, 27, 'Male', 19154, 'College'), (10, 28, 'Female', 24666, 'HighSchool'), (11, 35, 'Male', 43896, 'HighSchool'), (12, 32, 'Female', 40044, 'Bachelor'), (13, 32, 'Male', 6735, 'College'), (14, 30, 'Female', 19034, 'Bachelor'), (15, 28, 'Male', 35748, 'Bachelor'), (16, 38, 'Female', 26282, 'College'), (17, 32, 'Male', 49088, 'Bachelor'), (18, 21, 'Female', 20163, 'College'), (19, 33, 'Female', 10660, 'Bachelor'), (20, 28, 'Male', 40725, 'HighSchool'), (1, 27, 'Male', 40682, 'Bachelor'), (2, 29, 'Male', 15317, 'Masters'), (3, 37, 'Male', 38849, 'Bachelor'), (4, 30, 'Male', 11568, 'HighSchool'), (5, 31, 'Female', 46952, 'College'), (6, 38, 'Male', 7347, 'Bachelor'), (7, 32, 'Female', 8265, 'Bachelor'), (8, 24, 'Female', 47773, 'HighSchool'), (9, 27, 'Male', 19154, 'College'), (10, 28, 'Female', 24666, 'HighSchool'), (11, 35, 'Male', 43896, 'HighSchool'), (12, 32, 'Female', 40044, 'Bachelor'), (13, 32, 'Male', 6735, 'College'), (14, 30, 'Female', 19034, 'Bachelor'), (15, 28, 'Male', 35748, 'Bachelor'), (16, 38, 'Female', 26282, 'College'), (17, 32, 'Male', 49088, 'Bachelor'), (18, 21, 'Female', 20163, 'College'), (19, 33, 'Female', 10660, 'Bachelor'), (20, 28, 'Male', 40725, 'HighSchool'), (1, 27, 'Male', 40682, 'Bachelor'), (2, 29, 'Male', 15317, 'Masters'), (3, 37, 'Male', 38849, 'Bachelor'), (4, 30, 'Male', 11568, 'HighSchool'), (5, 31, 'Female', 46952, 'College'), (6, 38, 'Male', 7347, 'Bachelor'), (7, 32, 'Female', 8265, 'Bachelor'), (8, 24, 'Female', 47773, 'HighSchool'), (9, 27, 'Male', 19154, 'College'), (10, 28, 'Female', 24666, 'HighSchool'), (11, 35, 'Male', 43896, 'HighSchool'), (12, 32, 'Female', 40044, 'Bachelor'), (13, 32, 'Male', 6735, 'College'), (14, 30, 'Female', 19034, 'Bachelor'), (15, 28, 'Male', 35748, 'Bachelor'), (16, 38, 'Female', 26282, 'College'), (17, 32, 'Male', 49088, 'Bachelor'), (18, 21, 'Female', 20163, 'College'), (19, 33, 'Female', 10660, 'Bachelor'), (20, 28, 'Male', 40725, 'HighSchool'), (1, 27, 'Male', 40682, 'Bachelor'), (2, 29, 'Male', 15317, 'Masters'), (3, 37, 'Male', 38849, 'Bachelor'), (4, 30, 'Male', 11568, 'HighSchool'), (5, 31, 'Female', 46952, 'College'), (6, 38, 'Male', 7347, 'Bachelor'), (7, 32, 'Female', 8265, 'Bachelor'), (8, 24, 'Female', 47773, 'HighSchool'), (9, 27, 'Male', 19154, 'College'), (10, 28, 'Female', 24666, 'HighSchool'), (11, 35, 'Male', 43896, 'HighSchool'), (12, 32, 'Female', 40044, 'Bachelor'), (13, 32, 'Male', 6735, 'College'), (14, 30, 'Female', 19034, 'Bachelor'), (15, 28, 'Male', 35748, 'Bachelor'), (16, 38, 'Female', 26282, 'College'), (17, 32, 'Male', 49088, 'Bachelor'), (18, 21, 'Female', 20163, 'College'), (19, 33, 'Female', 10660, 'Bachelor'), (20, 28, 'Male', 40725, 'HighSchool'), (1, 27, 'Male', 40682, 'Bachelor'), (2, 29, 'Male', 15317, 'Masters'), (3, 37, 'Male', 38849, 'Bachelor'), (4, 30, 'Male', 11568, 'HighSchool'), (5, 31, 'Female', 46952, 'College'), (6, 38, 'Male', 7347, 'Bachelor'), (7, 32, 'Female', 8265, 'Bachelor'), (8, 24, 'Female', 47773, 'HighSchool'), (9, 27, 'Male', 19154, 'College'), (10, 28, 'Female', 24666, 'HighSchool'), (11, 35, 'Male', 43896, 'HighSchool'), (12, 32, 'Female', 40044, 'Bachelor'), (13, 32, 'Male', 6735, 'College'), (14, 30, 'Female', 19034, 'Bachelor'), (15, 28, 'Male', 35748, 'Bachelor'), (16, 38, 'Female', 26282, 'College'), (17, 32, 'Male', 49088, 'Bachelor'), (18, 21, 'Female', 20163, 'College'), (19, 33, 'Female', 10660, 'Bachelor'), (20, 28, 'Male', 40725, 'HighSchool'), (1, 27, 'Male', 40682, 'Bachelor'), (2, 29, 'Male', 15317, 'Masters'), (3, 37, 'Male', 38849, 'Bachelor'), (4, 30, 'Male', 11568, 'HighSchool'), (5, 31, 'Female', 46952, 'College'), (6, 38, 'Male', 7347, 'Bachelor'), (7, 32, 'Female', 8265, 'Bachelor'), (8, 24, 'Female', 47773, 'HighSchool'), (9, 27, 'Male', 19154, 'College'), (10, 28, 'Female', 24666, 'HighSchool'), (11, 35, 'Male', 43896, 'HighSchool'), (12, 32, 'Female', 40044, 'Bachelor'), (13, 32, 'Male', 6735, 'College'), (14, 30, 'Female', 19034, 'Bachelor'), (15, 28, 'Male', 35748, 'Bachelor'), (16, 38, 'Female', 26282, 'College'), (17, 32, 'Male', 49088, 'Bachelor'), (18, 21, 'Female', 20163, 'College'), (19, 33, 'Female', 10660, 'Bachelor'), (20, 28, 'Male', 40725, 'HighSchool'), (1, 27, 'Male', 40682, 'Bachelor'), (2, 29, 'Male', 15317, 'Masters'), (3, 37, 'Male', 38849, 'Bachelor'), (4, 30, 'Male', 11568, 'HighSchool'), (5, 31, 'Female', 46952, 'College'), (6, 38, 'Male', 7347, 'Bachelor'), (7, 32, 'Female', 8265, 'Bachelor'), (8, 24, 'Female', 47773, 'HighSchool'), (9, 27, 'Male', 19154, 'College'), (10, 28, 'Female', 24666, 'HighSchool'), (11, 35, 'Male', 43896, 'HighSchool'), (12, 32, 'Female', 40044, 'Bachelor'), (13, 32, 'Male', 6735, 'College'), (14, 30, 'Female', 19034, 'Bachelor'), (15, 28, 'Male', 35748, 'Bachelor'), (16, 38, 'Female', 26282, 'College'), (17, 32, 'Male', 49088, 'Bachelor'), (18, 21, 'Female', 20163, 'College'), (19, 33, 'Female', 10660, 'Bachelor'), (20, 28, 'Male', 40725, 'HighSchool'), (1, 27, 'Male', 40682, 'Bachelor'), (2, 29, 'Male', 15317, 'Masters'), (3, 37, 'Male', 38849, 'Bachelor'), (4, 30, 'Male', 11568, 'HighSchool'), (5, 31, 'Female', 46952, 'College'), (6, 38, 'Male', 7347, 'Bachelor'), (7, 32, 'Female', 8265, 'Bachelor'), (8, 24, 'Female', 47773, 'HighSchool'), (9, 27, 'Male', 19154, 'College'), (10, 28, 'Female', 24666, 'HighSchool'), (11, 35, 'Male', 43896, 'HighSchool'), (12, 32, 'Female', 40044, 'Bachelor'), (13, 32, 'Male', 6735, 'College'), (14, 30, 'Female', 19034, 'Bachelor'), (15, 28, 'Male', 35748, 'Bachelor'), (16, 38, 'Female', 26282, 'College'), (17, 32, 'Male', 49088, 'Bachelor'), (18, 21, 'Female', 20163, 'College'), (19, 33, 'Female', 10660, 'Bachelor'), (20, 28, 'Male', 40725, 'HighSchool'), (1, 27, 'Male', 40682, 'Bachelor'), (2, 29, 'Male', 15317, 'Masters'), (3, 37, 'Male', 38849, 'Bachelor'), (4, 30, 'Male', 11568, 'HighSchool'), (5, 31, 'Female', 46952, 'College'), (6, 38, 'Male', 7347, 'Bachelor'), (7, 32, 'Female', 8265, 'Bachelor'), (8, 24, 'Female', 47773, 'HighSchool'), (9, 27, 'Male', 19154, 'College'), (10, 28, 'Female', 24666, 'HighSchool'), (11, 35, 'Male', 43896, 'HighSchool'), (12, 32, 'Female', 40044, 'Bachelor'), (13, 32, 'Male', 6735, 'College'), (14, 30, 'Female', 19034, 'Bachelor'), (15, 28, 'Male', 35748, 'Bachelor'), (16, 38, 'Female', 26282, 'College'), (17, 32, 'Male', 49088, 'Bachelor'), (18, 21, 'Female', 20163, 'College'), (19, 33, 'Female', 10660, 'Bachelor'), (20, 28, 'Male', 40725, 'HighSchool'), (1, 27, 'Male', 40682, 'Bachelor'), (2, 29, 'Male', 15317, 'Masters'), (3, 37, 'Male', 38849, 'Bachelor'), (4, 30, 'Male', 11568, 'HighSchool'), (5, 31, 'Female', 46952, 'College'), (6, 38, 'Male', 7347, 'Bachelor'), (7, 32, 'Female', 8265, 'Bachelor'), (8, 24, 'Female', 47773, 'HighSchool'), (9, 27, 'Male', 19154, 'College'), (10, 28, 'Female', 24666, 'HighSchool'), (11, 35, 'Male', 43896, 'HighSchool'), (12, 32, 'Female', 40044, 'Bachelor'), (13, 32, 'Male', 6735, 'College'), (14, 30, 'Female', 19034, 'Bachelor'), (15, 28, 'Male', 35748, 'Bachelor'), (16, 38, 'Female', 26282, 'College'), (17, 32, 'Male', 49088, 'Bachelor'), (18, 21, 'Female', 20163, 'College'), (19, 33, 'Female', 10660, 'Bachelor'), (20, 28, 'Male', 40725, 'HighSchool'), (1, 27, 'Male', 40682, 'Bachelor'), (2, 29, 'Male', 15317, 'Masters'), (3, 37, 'Male', 38849, 'Bachelor'), (4, 30, 'Male', 11568, 'HighSchool'), (5, 31, 'Female', 46952, 'College'), (6, 38, 'Male', 7347, 'Bachelor'), (7, 32, 'Female', 8265, 'Bachelor'), (8, 24, 'Female', 47773, 'HighSchool'), (9, 27, 'Male', 19154, 'College'), (10, 28, 'Female', 24666, 'HighSchool'), (11, 35, 'Male', 43896, 'HighSchool'), (12, 32, 'Female', 40044, 'Bachelor'), (13, 32, 'Male', 6735, 'College'), (14, 30, 'Female', 19034, 'Bachelor'), (15, 28, 'Male', 35748, 'Bachelor'), (16, 38, 'Female', 26282, 'College'), (17, 32, 'Male', 49088, 'Bachelor'), (18, 21, 'Female', 20163, 'College'), (19, 33, 'Female', 10660, 'Bachelor'), (20, 28, 'Male', 40725, 'HighSchool'), (1, 27, 'Male', 40682, 'Bachelor'), (2, 29, 'Male', 15317, 'Masters'), (3, 37, 'Male', 38849, 'Bachelor'), (4, 30, 'Male', 11568, 'HighSchool'), (5, 31, 'Female', 46952, 'College'), (6, 38, 'Male', 7347, 'Bachelor'), (7, 32, 'Female', 8265, 'Bachelor'), (8, 24, 'Female', 47773, 'HighSchool'), (9, 27, 'Male', 19154, 'College'), (10, 28, 'Female', 24666, 'HighSchool'), (11, 35, 'Male', 43896, 'HighSchool'), (12, 32, 'Female', 40044, 'Bachelor'), (13, 32, 'Male', 6735, 'College'), (14, 30, 'Female', 19034, 'Bachelor'), (15, 28, 'Male', 35748, 'Bachelor'), (16, 38, 'Female', 26282, 'College'), (17, 32, 'Male', 49088, 'Bachelor'), (18, 21, 'Female', 20163, 'College'), (19, 33, 'Female', 10660, 'Bachelor'), (20, 28, 'Male', 40725, 'HighSchool'), (1, 27, 'Male', 40682, 'Bachelor'), (2, 29, 'Male', 15317, 'Masters'), (3, 37, 'Male', 38849, 'Bachelor'), (4, 30, 'Male', 11568, 'HighSchool'), (5, 31, 'Female', 46952, 'College'), (6, 38, 'Male', 7347, 'Bachelor'), (7, 32, 'Female', 8265, 'Bachelor'), (8, 24, 'Female', 47773, 'HighSchool'), (9, 27, 'Male', 19154, 'College'), (10, 28, 'Female', 24666, 'HighSchool'), (11, 35, 'Male', 43896, 'HighSchool'), (12, 32, 'Female', 40044, 'Bachelor'), (13, 32, 'Male', 6735, 'College'), (14, 30, 'Female', 19034, 'Bachelor'), (15, 28, 'Male', 35748, 'Bachelor'), (16, 38, 'Female', 26282, 'College'), (17, 32, 'Male', 49088, 'Bachelor'), (18, 21, 'Female', 20163, 'College'), (19, 33, 'Female', 10660, 'Bachelor'), (20, 28, 'Male', 40725, 'HighSchool'), (1, 27, 'Male', 40682, 'Bachelor'), (2, 29, 'Male', 15317, 'Masters'), (3, 37, 'Male', 38849, 'Bachelor'), (4, 30, 'Male', 11568, 'HighSchool'), (5, 31, 'Female', 46952, 'College'), (6, 38, 'Male', 7347, 'Bachelor'), (7, 32, 'Female', 8265, 'Bachelor'), (8, 24, 'Female', 47773, 'HighSchool'), (9, 27, 'Male', 19154, 'College'), (10, 28, 'Female', 24666, 'HighSchool'), (11, 35, 'Male', 43896, 'HighSchool'), (12, 32, 'Female', 40044, 'Bachelor'), (13, 32, 'Male', 6735, 'College'), (14, 30, 'Female', 19034, 'Bachelor'), (15, 28, 'Male', 35748, 'Bachelor'), (16, 38, 'Female', 26282, 'College'), (17, 32, 'Male', 49088, 'Bachelor'), (18, 21, 'Female', 20163, 'College'), (19, 33, 'Female', 10660, 'Bachelor'), (20, 28, 'Male', 40725, 'HighSchool'), (1, 27, 'Male', 40682, 'Bachelor'), (2, 29, 'Male', 15317, 'Masters'), (3, 37, 'Male', 38849, 'Bachelor'), (4, 30, 'Male', 11568, 'HighSchool'), (5, 31, 'Female', 46952, 'College'), (6, 38, 'Male', 7347, 'Bachelor'), (7, 32, 'Female', 8265, 'Bachelor'), (8, 24, 'Female', 47773, 'HighSchool'), (9, 27, 'Male', 19154, 'College'), (10, 28, 'Female', 24666, 'HighSchool'), (11, 35, 'Male', 43896, 'HighSchool'), (12, 32, 'Female', 40044, 'Bachelor'), (13, 32, 'Male', 6735, 'College'), (14, 30, 'Female', 19034, 'Bachelor'), (15, 28, 'Male', 35748, 'Bachelor'), (16, 38, 'Female', 26282, 'College'), (17, 32, 'Male', 49088, 'Bachelor'), (18, 21, 'Female', 20163, 'College'), (19, 33, 'Female', 10660, 'Bachelor'), (20, 28, 'Male', 40725, 'HighSchool'), (1, 27, 'Male', 40682, 'Bachelor'), (2, 29, 'Male', 15317, 'Masters'), (3, 37, 'Male', 38849, 'Bachelor'), (4, 30, 'Male', 11568, 'HighSchool'), (5, 31, 'Female', 46952, 'College'), (6, 38, 'Male', 7347, 'Bachelor'), (7, 32, 'Female', 8265, 'Bachelor'), (8, 24, 'Female', 47773, 'HighSchool'), (9, 27, 'Male', 19154, 'College'), (10, 28, 'Female', 24666, 'HighSchool'), (11, 35, 'Male', 43896, 'HighSchool'), (12, 32, 'Female', 40044, 'Bachelor'), (13, 32, 'Male', 6735, 'College'), (14, 30, 'Female', 19034, 'Bachelor'), (15, 28, 'Male', 35748, 'Bachelor'), (16, 38, 'Female', 26282, 'College'), (17, 32, 'Male', 49088, 'Bachelor'), (18, 21, 'Female', 20163, 'College'), (19, 33, 'Female', 10660, 'Bachelor'), (20, 28, 'Male', 40725, 'HighSchool'), (1, 27, 'Male', 40682, 'Bachelor'), (2, 29, 'Male', 15317, 'Masters'), (3, 37, 'Male', 38849, 'Bachelor'), (4, 30, 'Male', 11568, 'HighSchool'), (5, 31, 'Female', 46952, 'College'), (6, 38, 'Male', 7347, 'Bachelor'), (7, 32, 'Female', 8265, 'Bachelor'), (8, 24, 'Female', 47773, 'HighSchool'), (9, 27, 'Male', 19154, 'College'), (10, 28, 'Female', 24666, 'HighSchool'), (11, 35, 'Male', 43896, 'HighSchool'), (12, 32, 'Female', 40044, 'Bachelor'), (13, 32, 'Male', 6735, 'College'), (14, 30, 'Female', 19034, 'Bachelor'), (15, 28, 'Male', 35748, 'Bachelor'), (16, 38, 'Female', 26282, 'College'), (17, 32, 'Male', 49088, 'Bachelor'), (18, 21, 'Female', 20163, 'College'), (19, 33, 'Female', 10660, 'Bachelor'), (20, 28, 'Male', 40725, 'HighSchool'), (1, 27, 'Male', 40682, 'Bachelor'), (2, 29, 'Male', 15317, 'Masters'), (3, 37, 'Male', 38849, 'Bachelor'), (4, 30, 'Male', 11568, 'HighSchool'), (5, 31, 'Female', 46952, 'College'), (6, 38, 'Male', 7347, 'Bachelor'), (7, 32, 'Female', 8265, 'Bachelor'), (8, 24, 'Female', 47773, 'HighSchool'), (9, 27, 'Male', 19154, 'College'), (10, 28, 'Female', 24666, 'HighSchool'), (11, 35, 'Male', 43896, 'HighSchool'), (12, 32, 'Female', 40044, 'Bachelor'), (13, 32, 'Male', 6735, 'College'), (14, 30, 'Female', 19034, 'Bachelor'), (15, 28, 'Male', 35748, 'Bachelor'), (16, 38, 'Female', 26282, 'College'), (17, 32, 'Male', 49088, 'Bachelor'), (18, 21, 'Female', 20163, 'College'), (19, 33, 'Female', 10660, 'Bachelor'), (20, 28, 'Male', 40725, 'HighSchool'), (1, 27, 'Male', 40682, 'Bachelor'), (2, 29, 'Male', 15317, 'Masters'), (3, 37, 'Male', 38849, 'Bachelor'), (4, 30, 'Male', 11568, 'HighSchool'), (5, 31, 'Female', 46952, 'College'), (6, 38, 'Male', 7347, 'Bachelor'), (7, 32, 'Female', 8265, 'Bachelor'), (8, 24, 'Female', 47773, 'HighSchool'), (9, 27, 'Male', 19154, 'College'), (10, 28, 'Female', 24666, 'HighSchool'), (11, 35, 'Male', 43896, 'HighSchool'), (12, 32, 'Female', 40044, 'Bachelor'), (13, 32, 'Male', 6735, 'College'), (14, 30, 'Female', 19034, 'Bachelor'), (15, 28, 'Male', 35748, 'Bachelor'), (16, 38, 'Female', 26282, 'College'), (17, 32, 'Male', 49088, 'Bachelor'), (18, 21, 'Female', 20163, 'College'), (19, 33, 'Female', 10660, 'Bachelor'), (20, 28, 'Male', 40725, 'HighSchool')]\n"
     ]
    }
   ],
   "source": [
    "import sqlite3\n",
    "\n",
    "conn = sqlite3.connect(\"customer_data.db\")\n",
    "cur = conn.cursor()\n",
    "cur.execute(\"SELECT * FROM customer_data\")\n",
    "rows = cur.fetchall()\n",
    "print(rows)"
   ]
  },
  {
   "cell_type": "markdown",
   "id": "025cc946",
   "metadata": {},
   "source": [
    "Read from database to dataframe"
   ]
  },
  {
   "cell_type": "code",
   "execution_count": 12,
   "id": "b3516e23",
   "metadata": {},
   "outputs": [
    {
     "data": {
      "text/html": [
       "<div>\n",
       "<style scoped>\n",
       "    .dataframe tbody tr th:only-of-type {\n",
       "        vertical-align: middle;\n",
       "    }\n",
       "\n",
       "    .dataframe tbody tr th {\n",
       "        vertical-align: top;\n",
       "    }\n",
       "\n",
       "    .dataframe thead th {\n",
       "        text-align: right;\n",
       "    }\n",
       "</style>\n",
       "<table border=\"1\" class=\"dataframe\">\n",
       "  <thead>\n",
       "    <tr style=\"text-align: right;\">\n",
       "      <th></th>\n",
       "      <th>id</th>\n",
       "      <th>age</th>\n",
       "      <th>gender</th>\n",
       "      <th>income</th>\n",
       "      <th>education</th>\n",
       "    </tr>\n",
       "  </thead>\n",
       "  <tbody>\n",
       "    <tr>\n",
       "      <th>0</th>\n",
       "      <td>1</td>\n",
       "      <td>27</td>\n",
       "      <td>Male</td>\n",
       "      <td>40682</td>\n",
       "      <td>Bachelor</td>\n",
       "    </tr>\n",
       "    <tr>\n",
       "      <th>1</th>\n",
       "      <td>2</td>\n",
       "      <td>29</td>\n",
       "      <td>Male</td>\n",
       "      <td>15317</td>\n",
       "      <td>Masters</td>\n",
       "    </tr>\n",
       "    <tr>\n",
       "      <th>2</th>\n",
       "      <td>3</td>\n",
       "      <td>37</td>\n",
       "      <td>Male</td>\n",
       "      <td>38849</td>\n",
       "      <td>Bachelor</td>\n",
       "    </tr>\n",
       "    <tr>\n",
       "      <th>3</th>\n",
       "      <td>4</td>\n",
       "      <td>30</td>\n",
       "      <td>Male</td>\n",
       "      <td>11568</td>\n",
       "      <td>HighSchool</td>\n",
       "    </tr>\n",
       "    <tr>\n",
       "      <th>4</th>\n",
       "      <td>5</td>\n",
       "      <td>31</td>\n",
       "      <td>Female</td>\n",
       "      <td>46952</td>\n",
       "      <td>College</td>\n",
       "    </tr>\n",
       "    <tr>\n",
       "      <th>5</th>\n",
       "      <td>6</td>\n",
       "      <td>38</td>\n",
       "      <td>Male</td>\n",
       "      <td>7347</td>\n",
       "      <td>Bachelor</td>\n",
       "    </tr>\n",
       "    <tr>\n",
       "      <th>6</th>\n",
       "      <td>7</td>\n",
       "      <td>32</td>\n",
       "      <td>Female</td>\n",
       "      <td>8265</td>\n",
       "      <td>Bachelor</td>\n",
       "    </tr>\n",
       "    <tr>\n",
       "      <th>7</th>\n",
       "      <td>8</td>\n",
       "      <td>24</td>\n",
       "      <td>Female</td>\n",
       "      <td>47773</td>\n",
       "      <td>HighSchool</td>\n",
       "    </tr>\n",
       "    <tr>\n",
       "      <th>8</th>\n",
       "      <td>9</td>\n",
       "      <td>27</td>\n",
       "      <td>Male</td>\n",
       "      <td>19154</td>\n",
       "      <td>College</td>\n",
       "    </tr>\n",
       "    <tr>\n",
       "      <th>9</th>\n",
       "      <td>10</td>\n",
       "      <td>28</td>\n",
       "      <td>Female</td>\n",
       "      <td>24666</td>\n",
       "      <td>HighSchool</td>\n",
       "    </tr>\n",
       "    <tr>\n",
       "      <th>10</th>\n",
       "      <td>11</td>\n",
       "      <td>35</td>\n",
       "      <td>Male</td>\n",
       "      <td>43896</td>\n",
       "      <td>HighSchool</td>\n",
       "    </tr>\n",
       "    <tr>\n",
       "      <th>11</th>\n",
       "      <td>12</td>\n",
       "      <td>32</td>\n",
       "      <td>Female</td>\n",
       "      <td>40044</td>\n",
       "      <td>Bachelor</td>\n",
       "    </tr>\n",
       "    <tr>\n",
       "      <th>12</th>\n",
       "      <td>13</td>\n",
       "      <td>32</td>\n",
       "      <td>Male</td>\n",
       "      <td>6735</td>\n",
       "      <td>College</td>\n",
       "    </tr>\n",
       "    <tr>\n",
       "      <th>13</th>\n",
       "      <td>14</td>\n",
       "      <td>30</td>\n",
       "      <td>Female</td>\n",
       "      <td>19034</td>\n",
       "      <td>Bachelor</td>\n",
       "    </tr>\n",
       "    <tr>\n",
       "      <th>14</th>\n",
       "      <td>15</td>\n",
       "      <td>28</td>\n",
       "      <td>Male</td>\n",
       "      <td>35748</td>\n",
       "      <td>Bachelor</td>\n",
       "    </tr>\n",
       "  </tbody>\n",
       "</table>\n",
       "</div>"
      ],
      "text/plain": [
       "    id  age  gender  income   education\n",
       "0    1   27    Male   40682    Bachelor\n",
       "1    2   29    Male   15317     Masters\n",
       "2    3   37    Male   38849    Bachelor\n",
       "3    4   30    Male   11568  HighSchool\n",
       "4    5   31  Female   46952     College\n",
       "5    6   38    Male    7347    Bachelor\n",
       "6    7   32  Female    8265    Bachelor\n",
       "7    8   24  Female   47773  HighSchool\n",
       "8    9   27    Male   19154     College\n",
       "9   10   28  Female   24666  HighSchool\n",
       "10  11   35    Male   43896  HighSchool\n",
       "11  12   32  Female   40044    Bachelor\n",
       "12  13   32    Male    6735     College\n",
       "13  14   30  Female   19034    Bachelor\n",
       "14  15   28    Male   35748    Bachelor"
      ]
     },
     "execution_count": 12,
     "metadata": {},
     "output_type": "execute_result"
    }
   ],
   "source": [
    "result = pd.read_sql_query(\"SELECT * FROM customer_data LIMIT 15\", conn)\n",
    "result"
   ]
  }
 ],
 "metadata": {
  "kernelspec": {
   "display_name": "Python 3 (ipykernel)",
   "language": "python",
   "name": "python3"
  },
  "language_info": {
   "codemirror_mode": {
    "name": "ipython",
    "version": 3
   },
   "file_extension": ".py",
   "mimetype": "text/x-python",
   "name": "python",
   "nbconvert_exporter": "python",
   "pygments_lexer": "ipython3",
   "version": "3.12.1"
  }
 },
 "nbformat": 4,
 "nbformat_minor": 5
}
